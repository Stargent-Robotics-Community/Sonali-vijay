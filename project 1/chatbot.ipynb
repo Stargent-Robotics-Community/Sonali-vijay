{
 "cells": [
  {
   "cell_type": "code",
   "execution_count": 21,
   "id": "e720392b",
   "metadata": {
    "scrolled": true
   },
   "outputs": [
    {
     "name": "stdout",
     "output_type": "stream",
     "text": [
      "speak now\n",
      "need help\n",
      "How can I help you?\n"
     ]
    }
   ],
   "source": [
    "import pyttsx3\n",
    "import speech_recognition as sr\n",
    "r=sr.Recognizer()\n",
    "engine=pyttsx3.init()\n",
    "intro=\"HEllo! My name is Sonali Vijay vargiya\"\n",
    "engine.say(intro)\n",
    "engine.runAndWait()\n",
    "\n",
    "def a_answer():\n",
    "        a_ ='Hello! dear'\n",
    "        engine.say(a_)\n",
    "        engine.runAndWait()\n",
    "        print(a_)\n",
    "def b_answer():\n",
    "        b_ ='I am fine.How are you?'\n",
    "        engine.say(b_)\n",
    "        engine.runAndWait()\n",
    "        print(b_)\n",
    "def c_answer():\n",
    "        c_ ='How can I help you?'\n",
    "        engine.say(c_)\n",
    "        engine.runAndWait()\n",
    "        print(c_)    \n",
    "def d_answer():\n",
    "        d_ ='Click on the given link'\n",
    "        y=' https://www.youtube.com/'\n",
    "        engine.say(d_)\n",
    "        engine.runAndWait()\n",
    "        print(d_+ y)\n",
    "def e_answer():\n",
    "        e_ ='Click on the given link'\n",
    "        g=' https://github.com/'\n",
    "        engine.say(e_)\n",
    "        engine.runAndWait()\n",
    "        print(e_ + g)\n",
    "        \n",
    "\n",
    "def chatbot():\n",
    "    \n",
    "    r=sr.Recognizer()\n",
    "    with sr.Microphone() as source:\n",
    "        r.adjust_for_ambient_noise(source)\n",
    "        r.pause_threshold=1\n",
    "        print('speak now')\n",
    "        audio=r.listen(source)\n",
    "        a='hello world'\n",
    "        b='how are you'\n",
    "        c='need help'\n",
    "        d='open Youtube'\n",
    "        e='open github'\n",
    "        text=r.recognize_google(audio)\n",
    "        if(text==a or text==b or text==c or text==d or text==e):\n",
    "            print(text)\n",
    "            \n",
    "        else:\n",
    "            print('''I have no answer to this question.\n",
    "                 Please speak again.''')\n",
    "        if(text==a):\n",
    "            a_answer()\n",
    "        elif(text==b):\n",
    "            b_answer()\n",
    "        elif(text==c):\n",
    "            c_answer()\n",
    "        elif(text==d):\n",
    "            d_answer()\n",
    "        elif(text==e):\n",
    "            e_answer()\n",
    "def main():\n",
    "    chatbot()\n",
    "main()\n",
    "\n",
    "    \n",
    "        "
   ]
  },
  {
   "cell_type": "code",
   "execution_count": null,
   "id": "8d9dfad7",
   "metadata": {},
   "outputs": [],
   "source": []
  }
 ],
 "metadata": {
  "kernelspec": {
   "display_name": "Python 3",
   "language": "python",
   "name": "python3"
  },
  "language_info": {
   "codemirror_mode": {
    "name": "ipython",
    "version": 3
   },
   "file_extension": ".py",
   "mimetype": "text/x-python",
   "name": "python",
   "nbconvert_exporter": "python",
   "pygments_lexer": "ipython3",
   "version": "3.8.8"
  }
 },
 "nbformat": 4,
 "nbformat_minor": 5
}
